{
 "cells": [
  {
   "cell_type": "markdown",
   "id": "405ec371",
   "metadata": {
    "papermill": {
     "duration": 0.004432,
     "end_time": "2025-07-24T21:50:36.895019",
     "exception": false,
     "start_time": "2025-07-24T21:50:36.890587",
     "status": "completed"
    },
    "tags": []
   },
   "source": [
    " # MNIST Digit Classifier with Neural Networks"
   ]
  },
  {
   "cell_type": "markdown",
   "id": "d2241043",
   "metadata": {
    "papermill": {
     "duration": 0.002888,
     "end_time": "2025-07-24T21:50:36.901192",
     "exception": false,
     "start_time": "2025-07-24T21:50:36.898304",
     "status": "completed"
    },
    "tags": []
   },
   "source": [
    "## 1- Project Overview:\n",
    "\n",
    "    This project trains a neural network on the MNIST dataset to classify handwritten digits (0–9). It compares the performance of a model with and without activation functions, demonstrates overfitting, and applies regularization techniques to improve generalization\n"
   ]
  },
  {
   "cell_type": "markdown",
   "id": "afa9899b",
   "metadata": {
    "papermill": {
     "duration": 0.002803,
     "end_time": "2025-07-24T21:50:36.906996",
     "exception": false,
     "start_time": "2025-07-24T21:50:36.904193",
     "status": "completed"
    },
    "tags": []
   },
   "source": [
    "### Dataset\n",
    "\n",
    "    Source: MNIST Handwritten Digit Database\n",
    "    Size:\n",
    "\n",
    "        - Training set: 60,000 images\n",
    "        - Test set: 10,000 images\n",
    "\n",
    "    Image shape: 28×28 grayscale"
   ]
  },
  {
   "cell_type": "markdown",
   "id": "f56806ed",
   "metadata": {
    "papermill": {
     "duration": 0.002905,
     "end_time": "2025-07-24T21:50:36.912963",
     "exception": false,
     "start_time": "2025-07-24T21:50:36.910058",
     "status": "completed"
    },
    "tags": []
   },
   "source": [
    "### Import the necessary libraries"
   ]
  },
  {
   "cell_type": "code",
   "execution_count": 1,
   "id": "4c1d03db",
   "metadata": {
    "execution": {
     "iopub.execute_input": "2025-07-24T21:50:36.920509Z",
     "iopub.status.busy": "2025-07-24T21:50:36.920182Z",
     "iopub.status.idle": "2025-07-24T21:50:54.002717Z",
     "shell.execute_reply": "2025-07-24T21:50:54.001430Z"
    },
    "id": "-R3FAdrjuQiE",
    "papermill": {
     "duration": 17.088238,
     "end_time": "2025-07-24T21:50:54.004218",
     "exception": false,
     "start_time": "2025-07-24T21:50:36.915980",
     "status": "completed"
    },
    "tags": []
   },
   "outputs": [
    {
     "name": "stderr",
     "output_type": "stream",
     "text": [
      "2025-07-24 21:50:38.735120: E external/local_xla/xla/stream_executor/cuda/cuda_fft.cc:477] Unable to register cuFFT factory: Attempting to register factory for plugin cuFFT when one has already been registered\n",
      "WARNING: All log messages before absl::InitializeLog() is called are written to STDERR\n",
      "E0000 00:00:1753393838.942992      13 cuda_dnn.cc:8310] Unable to register cuDNN factory: Attempting to register factory for plugin cuDNN when one has already been registered\n",
      "E0000 00:00:1753393839.005112      13 cuda_blas.cc:1418] Unable to register cuBLAS factory: Attempting to register factory for plugin cuBLAS when one has already been registered\n"
     ]
    }
   ],
   "source": [
    "from keras.datasets import mnist\n",
    "from  keras import models ,layers ,activations\n",
    "from keras.utils import to_categorical\n",
    "from sklearn.preprocessing import MinMaxScaler , OneHotEncoder\n",
    "import matplotlib.pyplot as plt\n",
    "import numpy as np"
   ]
  },
  {
   "cell_type": "markdown",
   "id": "2a7ad7ed",
   "metadata": {
    "papermill": {
     "duration": 0.003167,
     "end_time": "2025-07-24T21:50:54.011134",
     "exception": false,
     "start_time": "2025-07-24T21:50:54.007967",
     "status": "completed"
    },
    "tags": []
   },
   "source": [
    "### 2- Load & Split The Dataset"
   ]
  },
  {
   "cell_type": "code",
   "execution_count": 2,
   "id": "e180f97f",
   "metadata": {
    "execution": {
     "iopub.execute_input": "2025-07-24T21:50:54.019321Z",
     "iopub.status.busy": "2025-07-24T21:50:54.018717Z",
     "iopub.status.idle": "2025-07-24T21:50:55.526801Z",
     "shell.execute_reply": "2025-07-24T21:50:55.525667Z"
    },
    "id": "llmqqbaquRjN",
    "papermill": {
     "duration": 1.513944,
     "end_time": "2025-07-24T21:50:55.528374",
     "exception": false,
     "start_time": "2025-07-24T21:50:54.014430",
     "status": "completed"
    },
    "tags": []
   },
   "outputs": [
    {
     "name": "stdout",
     "output_type": "stream",
     "text": [
      "Downloading data from https://storage.googleapis.com/tensorflow/tf-keras-datasets/mnist.npz\n",
      "\u001b[1m11490434/11490434\u001b[0m \u001b[32m━━━━━━━━━━━━━━━━━━━━\u001b[0m\u001b[37m\u001b[0m \u001b[1m1s\u001b[0m 0us/step\n"
     ]
    }
   ],
   "source": [
    "(X_train, y_train), (X_test, y_test) = mnist.load_data()\n",
    "(train_images, train_labels), (test_images, test_labels) = mnist.load_data()"
   ]
  },
  {
   "cell_type": "code",
   "execution_count": 3,
   "id": "1d677da8",
   "metadata": {
    "execution": {
     "iopub.execute_input": "2025-07-24T21:50:55.538503Z",
     "iopub.status.busy": "2025-07-24T21:50:55.538250Z",
     "iopub.status.idle": "2025-07-24T21:50:55.542804Z",
     "shell.execute_reply": "2025-07-24T21:50:55.542157Z"
    },
    "id": "9BIjZFuKsPh5",
    "papermill": {
     "duration": 0.010345,
     "end_time": "2025-07-24T21:50:55.544071",
     "exception": false,
     "start_time": "2025-07-24T21:50:55.533726",
     "status": "completed"
    },
    "tags": []
   },
   "outputs": [],
   "source": [
    "valid = 0.001 * X_train.shape[0]\n",
    "X_validation = X_train[:int(valid)]\n",
    "y_validation = y_train[:int(valid)]\n",
    "X_train = X_train[int(valid):]\n",
    "y_train = y_train[int(valid):]"
   ]
  },
  {
   "cell_type": "markdown",
   "id": "522cc327",
   "metadata": {
    "papermill": {
     "duration": 0.003728,
     "end_time": "2025-07-24T21:50:55.552299",
     "exception": false,
     "start_time": "2025-07-24T21:50:55.548571",
     "status": "completed"
    },
    "tags": []
   },
   "source": [
    "### Show Simple"
   ]
  },
  {
   "cell_type": "code",
   "execution_count": 4,
   "id": "9da629fe",
   "metadata": {
    "execution": {
     "iopub.execute_input": "2025-07-24T21:50:55.562692Z",
     "iopub.status.busy": "2025-07-24T21:50:55.562388Z",
     "iopub.status.idle": "2025-07-24T21:50:55.789711Z",
     "shell.execute_reply": "2025-07-24T21:50:55.788676Z"
    },
    "id": "3dPyXatxteF7",
    "outputId": "6aeeae19-ec7a-4dd5-9076-4283c543bf80",
    "papermill": {
     "duration": 0.233404,
     "end_time": "2025-07-24T21:50:55.790817",
     "exception": false,
     "start_time": "2025-07-24T21:50:55.557413",
     "status": "completed"
    },
    "tags": []
   },
   "outputs": [
    {
     "data": {
      "image/png": "[encoded data removed]",
      "text/plain": [
       "<Figure size 1500x300 with 3 Axes>"
      ]
     },
     "metadata": {},
     "output_type": "display_data"
    }
   ],
   "source": [
    "plt.figure(figsize=(15, 3))\n",
    "for index, (image, label) in enumerate(zip(X_train[0:3], y_train[0:3])):\n",
    "    plt.subplot(1, 3, index + 1)\n",
    "    plt.imshow(np.reshape(image, (28, 28) ), cmap='gray')\n",
    "    plt.title(\"Label: %s\\n\" % label)\n",
    "    plt.axis('off')\n",
    "plt.show()"
   ]
  },
  {
   "cell_type": "markdown",
   "id": "b135d285",
   "metadata": {
    "papermill": {
     "duration": 0.003688,
     "end_time": "2025-07-24T21:50:55.798748",
     "exception": false,
     "start_time": "2025-07-24T21:50:55.795060",
     "status": "completed"
    },
    "tags": []
   },
   "source": [
    "### 3- Preprocessing the Dataset"
   ]
  },
  {
   "cell_type": "code",
   "execution_count": 5,
   "id": "efbfc0fd",
   "metadata": {
    "execution": {
     "iopub.execute_input": "2025-07-24T21:50:55.807449Z",
     "iopub.status.busy": "2025-07-24T21:50:55.807215Z",
     "iopub.status.idle": "2025-07-24T21:50:55.944801Z",
     "shell.execute_reply": "2025-07-24T21:50:55.943841Z"
    },
    "id": "XapwzYMdzotm",
    "papermill": {
     "duration": 0.143592,
     "end_time": "2025-07-24T21:50:55.946101",
     "exception": false,
     "start_time": "2025-07-24T21:50:55.802509",
     "status": "completed"
    },
    "tags": []
   },
   "outputs": [],
   "source": [
    "X_train = np.array(X_train) / 255\n",
    "X_test = np.array(X_test) / 255\n",
    "X_validation = np.array(X_validation) / 255\n",
    "\n",
    "X_train = X_train.reshape(-1, 28*28)\n",
    "X_test = X_test.reshape(-1, 28*28)\n",
    "X_validation = X_validation.reshape(-1, 28*28)"
   ]
  },
  {
   "cell_type": "code",
   "execution_count": 6,
   "id": "2ff17e9d",
   "metadata": {
    "execution": {
     "iopub.execute_input": "2025-07-24T21:50:55.954873Z",
     "iopub.status.busy": "2025-07-24T21:50:55.954640Z",
     "iopub.status.idle": "2025-07-24T21:50:56.055341Z",
     "shell.execute_reply": "2025-07-24T21:50:56.054660Z"
    },
    "id": "cJK2Gskb3-Il",
    "papermill": {
     "duration": 0.106626,
     "end_time": "2025-07-24T21:50:56.056829",
     "exception": false,
     "start_time": "2025-07-24T21:50:55.950203",
     "status": "completed"
    },
    "tags": []
   },
   "outputs": [],
   "source": [
    "train_images = train_images.reshape((60000, 28 * 28))\n",
    "train_images = train_images.astype('float32') / 255\n",
    "test_images = test_images.reshape((10000, 28 * 28))\n",
    "test_images = test_images.astype('float32') / 255"
   ]
  },
  {
   "cell_type": "code",
   "execution_count": 7,
   "id": "138733dd",
   "metadata": {
    "execution": {
     "iopub.execute_input": "2025-07-24T21:50:56.066274Z",
     "iopub.status.busy": "2025-07-24T21:50:56.066041Z",
     "iopub.status.idle": "2025-07-24T21:50:56.084334Z",
     "shell.execute_reply": "2025-07-24T21:50:56.083648Z"
    },
    "id": "gaDtxHXkwy4Q",
    "papermill": {
     "duration": 0.024414,
     "end_time": "2025-07-24T21:50:56.085584",
     "exception": false,
     "start_time": "2025-07-24T21:50:56.061170",
     "status": "completed"
    },
    "tags": []
   },
   "outputs": [],
   "source": [
    "y_train= OneHotEncoder().fit_transform(y_train.reshape(-1, 1)).toarray()\n",
    "y_validation= OneHotEncoder().fit_transform(y_validation.reshape(-1, 1)).toarray()\n",
    "y_test= OneHotEncoder().fit_transform(y_test.reshape(-1, 1)).toarray()"
   ]
  },
  {
   "cell_type": "code",
   "execution_count": 8,
   "id": "422f8a40",
   "metadata": {
    "execution": {
     "iopub.execute_input": "2025-07-24T21:50:56.094713Z",
     "iopub.status.busy": "2025-07-24T21:50:56.094470Z",
     "iopub.status.idle": "2025-07-24T21:50:56.099150Z",
     "shell.execute_reply": "2025-07-24T21:50:56.098518Z"
    },
    "id": "nhe8WPdsxW0U",
    "papermill": {
     "duration": 0.010292,
     "end_time": "2025-07-24T21:50:56.100223",
     "exception": false,
     "start_time": "2025-07-24T21:50:56.089931",
     "status": "completed"
    },
    "tags": []
   },
   "outputs": [],
   "source": [
    "train_labels = to_categorical(train_labels)\n",
    "test_labels = to_categorical(test_labels)"
   ]
  },
  {
   "cell_type": "markdown",
   "id": "827857c3",
   "metadata": {
    "papermill": {
     "duration": 0.004174,
     "end_time": "2025-07-24T21:50:56.108981",
     "exception": false,
     "start_time": "2025-07-24T21:50:56.104807",
     "status": "completed"
    },
    "tags": []
   },
   "source": [
    "### 4- Build The Model"
   ]
  },
  {
   "cell_type": "code",
   "execution_count": 9,
   "id": "ae6b56e8",
   "metadata": {
    "execution": {
     "iopub.execute_input": "2025-07-24T21:50:56.118013Z",
     "iopub.status.busy": "2025-07-24T21:50:56.117761Z",
     "iopub.status.idle": "2025-07-24T21:50:56.192032Z",
     "shell.execute_reply": "2025-07-24T21:50:56.191074Z"
    },
    "id": "ZyII99LPt-bb",
    "outputId": "acc818a6-9c51-408f-d954-325805422e11",
    "papermill": {
     "duration": 0.08029,
     "end_time": "2025-07-24T21:50:56.193289",
     "exception": false,
     "start_time": "2025-07-24T21:50:56.112999",
     "status": "completed"
    },
    "tags": []
   },
   "outputs": [
    {
     "name": "stderr",
     "output_type": "stream",
     "text": [
      "/usr/local/lib/python3.11/dist-packages/keras/src/layers/core/dense.py:87: UserWarning: Do not pass an `input_shape`/`input_dim` argument to a layer. When using Sequential models, prefer using an `Input(shape)` object as the first layer in the model instead.\n",
      "  super().__init__(activity_regularizer=activity_regularizer, **kwargs)\n",
      "2025-07-24 21:50:56.127255: E external/local_xla/xla/stream_executor/cuda/cuda_driver.cc:152] failed call to cuInit: INTERNAL: CUDA error: Failed call to cuInit: UNKNOWN ERROR (303)\n"
     ]
    }
   ],
   "source": [
    "model  = models.Sequential()\n",
    "model.add(layers.Dense(512,activation='relu', input_shape=(28*28,)))\n",
    "model.add(layers.Dense(10,activation='softmax'))"
   ]
  },
  {
   "cell_type": "markdown",
   "id": "98474747",
   "metadata": {
    "papermill": {
     "duration": 0.003795,
     "end_time": "2025-07-24T21:50:56.201463",
     "exception": false,
     "start_time": "2025-07-24T21:50:56.197668",
     "status": "completed"
    },
    "tags": []
   },
   "source": [
    "### Compiling the Model\n",
    "\n",
    "     - optimizer='adam' → This helps the model learn faster and better. It's a smart way to update the model’s weights.\n",
    "\n",
    "     - loss='categorical_crossentropy' → This tells the model how wrong its predictions are. We use this because our labels are one-hot            encoded .\n",
    "\n",
    " \n",
    "     - metrics=['accuracy'] → This helps us see how often the model gets the right answer."
   ]
  },
  {
   "cell_type": "code",
   "execution_count": 10,
   "id": "c71875e4",
   "metadata": {
    "execution": {
     "iopub.execute_input": "2025-07-24T21:50:56.210398Z",
     "iopub.status.busy": "2025-07-24T21:50:56.210081Z",
     "iopub.status.idle": "2025-07-24T21:50:56.223197Z",
     "shell.execute_reply": "2025-07-24T21:50:56.222377Z"
    },
    "id": "E9ljD528wTlp",
    "papermill": {
     "duration": 0.019404,
     "end_time": "2025-07-24T21:50:56.224702",
     "exception": false,
     "start_time": "2025-07-24T21:50:56.205298",
     "status": "completed"
    },
    "tags": []
   },
   "outputs": [],
   "source": [
    "model.compile(\n",
    "    optimizer='adam',\n",
    "    loss='categorical_crossentropy',\n",
    "    metrics=['accuracy']\n",
    ")"
   ]
  },
  {
   "cell_type": "markdown",
   "id": "347a1478",
   "metadata": {
    "papermill": {
     "duration": 0.003902,
     "end_time": "2025-07-24T21:50:56.233066",
     "exception": false,
     "start_time": "2025-07-24T21:50:56.229164",
     "status": "completed"
    },
    "tags": []
   },
   "source": [
    "### 5- Training The Model"
   ]
  },
  {
   "cell_type": "code",
   "execution_count": 11,
   "id": "36a27176",
   "metadata": {
    "execution": {
     "iopub.execute_input": "2025-07-24T21:50:56.242561Z",
     "iopub.status.busy": "2025-07-24T21:50:56.242279Z",
     "iopub.status.idle": "2025-07-24T21:51:13.111156Z",
     "shell.execute_reply": "2025-07-24T21:51:13.109691Z"
    },
    "id": "bYx3iE3d0prs",
    "outputId": "3a3474f7-779f-40da-f061-9e8168bf9d64",
    "papermill": {
     "duration": 16.875537,
     "end_time": "2025-07-24T21:51:13.112828",
     "exception": false,
     "start_time": "2025-07-24T21:50:56.237291",
     "status": "completed"
    },
    "tags": []
   },
   "outputs": [
    {
     "name": "stdout",
     "output_type": "stream",
     "text": [
      "Epoch 1/12\n",
      "\u001b[1m118/118\u001b[0m \u001b[32m━━━━━━━━━━━━━━━━━━━━\u001b[0m\u001b[37m\u001b[0m \u001b[1m2s\u001b[0m 13ms/step - accuracy: 0.7972 - loss: 0.7433 - val_accuracy: 0.9667 - val_loss: 0.1361\n",
      "Epoch 2/12\n",
      "\u001b[1m118/118\u001b[0m \u001b[32m━━━━━━━━━━━━━━━━━━━━\u001b[0m\u001b[37m\u001b[0m \u001b[1m1s\u001b[0m 11ms/step - accuracy: 0.9455 - loss: 0.1894 - val_accuracy: 0.9833 - val_loss: 0.0809\n",
      "Epoch 3/12\n",
      "\u001b[1m118/118\u001b[0m \u001b[32m━━━━━━━━━━━━━━━━━━━━\u001b[0m\u001b[37m\u001b[0m \u001b[1m1s\u001b[0m 11ms/step - accuracy: 0.9660 - loss: 0.1254 - val_accuracy: 0.9833 - val_loss: 0.0567\n",
      "Epoch 4/12\n",
      "\u001b[1m118/118\u001b[0m \u001b[32m━━━━━━━━━━━━━━━━━━━━\u001b[0m\u001b[37m\u001b[0m \u001b[1m1s\u001b[0m 10ms/step - accuracy: 0.9740 - loss: 0.0953 - val_accuracy: 1.0000 - val_loss: 0.0451\n",
      "Epoch 5/12\n",
      "\u001b[1m118/118\u001b[0m \u001b[32m━━━━━━━━━━━━━━━━━━━━\u001b[0m\u001b[37m\u001b[0m \u001b[1m1s\u001b[0m 11ms/step - accuracy: 0.9789 - loss: 0.0756 - val_accuracy: 1.0000 - val_loss: 0.0262\n",
      "Epoch 6/12\n",
      "\u001b[1m118/118\u001b[0m \u001b[32m━━━━━━━━━━━━━━━━━━━━\u001b[0m\u001b[37m\u001b[0m \u001b[1m1s\u001b[0m 11ms/step - accuracy: 0.9833 - loss: 0.0613 - val_accuracy: 1.0000 - val_loss: 0.0236\n",
      "Epoch 7/12\n",
      "\u001b[1m118/118\u001b[0m \u001b[32m━━━━━━━━━━━━━━━━━━━━\u001b[0m\u001b[37m\u001b[0m \u001b[1m1s\u001b[0m 10ms/step - accuracy: 0.9869 - loss: 0.0511 - val_accuracy: 1.0000 - val_loss: 0.0229\n",
      "Epoch 8/12\n",
      "\u001b[1m118/118\u001b[0m \u001b[32m━━━━━━━━━━━━━━━━━━━━\u001b[0m\u001b[37m\u001b[0m \u001b[1m1s\u001b[0m 11ms/step - accuracy: 0.9884 - loss: 0.0431 - val_accuracy: 1.0000 - val_loss: 0.0210\n",
      "Epoch 9/12\n",
      "\u001b[1m118/118\u001b[0m \u001b[32m━━━━━━━━━━━━━━━━━━━━\u001b[0m\u001b[37m\u001b[0m \u001b[1m1s\u001b[0m 11ms/step - accuracy: 0.9912 - loss: 0.0355 - val_accuracy: 1.0000 - val_loss: 0.0171\n",
      "Epoch 10/12\n",
      "\u001b[1m118/118\u001b[0m \u001b[32m━━━━━━━━━━━━━━━━━━━━\u001b[0m\u001b[37m\u001b[0m \u001b[1m1s\u001b[0m 11ms/step - accuracy: 0.9938 - loss: 0.0275 - val_accuracy: 1.0000 - val_loss: 0.0146\n",
      "Epoch 11/12\n",
      "\u001b[1m118/118\u001b[0m \u001b[32m━━━━━━━━━━━━━━━━━━━━\u001b[0m\u001b[37m\u001b[0m \u001b[1m1s\u001b[0m 11ms/step - accuracy: 0.9946 - loss: 0.0240 - val_accuracy: 1.0000 - val_loss: 0.0123\n",
      "Epoch 12/12\n",
      "\u001b[1m118/118\u001b[0m \u001b[32m━━━━━━━━━━━━━━━━━━━━\u001b[0m\u001b[37m\u001b[0m \u001b[1m1s\u001b[0m 11ms/step - accuracy: 0.9958 - loss: 0.0217 - val_accuracy: 1.0000 - val_loss: 0.0137\n"
     ]
    }
   ],
   "source": [
    "History  = model.fit(train_images, train_labels, epochs=12, batch_size=512, validation_data=(X_validation, y_validation))"
   ]
  },
  {
   "cell_type": "markdown",
   "id": "f8d8575e",
   "metadata": {
    "papermill": {
     "duration": 0.014047,
     "end_time": "2025-07-24T21:51:13.142426",
     "exception": false,
     "start_time": "2025-07-24T21:51:13.128379",
     "status": "completed"
    },
    "tags": []
   },
   "source": [
    "## Visualizing the Training and Validation Loss"
   ]
  },
  {
   "cell_type": "code",
   "execution_count": 12,
   "id": "09469ddd",
   "metadata": {
    "execution": {
     "iopub.execute_input": "2025-07-24T21:51:13.172575Z",
     "iopub.status.busy": "2025-07-24T21:51:13.172258Z",
     "iopub.status.idle": "2025-07-24T21:51:13.333375Z",
     "shell.execute_reply": "2025-07-24T21:51:13.332468Z"
    },
    "id": "dNJpG33s4FGO",
    "outputId": "2bb855f1-192e-412d-a68e-a48c3fd5686e",
    "papermill": {
     "duration": 0.177799,
     "end_time": "2025-07-24T21:51:13.334503",
     "exception": false,
     "start_time": "2025-07-24T21:51:13.156704",
     "status": "completed"
    },
    "tags": []
   },
   "outputs": [
    {
     "data": {
      "image/png": "[encoded data removed]",
      "text/plain": [
       "<Figure size 640x480 with 1 Axes>"
      ]
     },
     "metadata": {},
     "output_type": "display_data"
    }
   ],
   "source": [
    "history_dict = History.history\n",
    "loss_values = history_dict['loss']\n",
    "val_loss_values = history_dict['val_loss']\n",
    "\n",
    "loss_values = history_dict['loss']\n",
    "val_loss_values = history_dict['val_loss']\n",
    "epochs = range(1, len(loss_values) + 1)\n",
    "\n",
    "plt.plot(epochs, loss_values, 'ro', label='Training loss')\n",
    "plt.plot(epochs, val_loss_values, 'k-', label='Validation loss')\n",
    "plt.title('Training and validation loss')\n",
    "plt.xlabel('Epochs')\n",
    "plt.ylabel('Loss')\n",
    "plt.legend()\n",
    "plt.show()"
   ]
  },
  {
   "cell_type": "code",
   "execution_count": 13,
   "id": "08d1c001",
   "metadata": {
    "execution": {
     "iopub.execute_input": "2025-07-24T21:51:13.366121Z",
     "iopub.status.busy": "2025-07-24T21:51:13.365826Z",
     "iopub.status.idle": "2025-07-24T21:51:14.123818Z",
     "shell.execute_reply": "2025-07-24T21:51:14.122262Z"
    },
    "id": "BfvaA2o869lo",
    "outputId": "a04b3721-a902-4c78-e2f9-d344947b5072",
    "papermill": {
     "duration": 0.775641,
     "end_time": "2025-07-24T21:51:14.125549",
     "exception": false,
     "start_time": "2025-07-24T21:51:13.349908",
     "status": "completed"
    },
    "tags": []
   },
   "outputs": [
    {
     "name": "stdout",
     "output_type": "stream",
     "text": [
      "\u001b[1m313/313\u001b[0m \u001b[32m━━━━━━━━━━━━━━━━━━━━\u001b[0m\u001b[37m\u001b[0m \u001b[1m1s\u001b[0m 2ms/step\n"
     ]
    }
   ],
   "source": [
    "predictions = model.predict(test_images)"
   ]
  },
  {
   "cell_type": "markdown",
   "id": "9f5187c5",
   "metadata": {
    "papermill": {
     "duration": 0.015302,
     "end_time": "2025-07-24T21:51:14.156975",
     "exception": false,
     "start_time": "2025-07-24T21:51:14.141673",
     "status": "completed"
    },
    "tags": []
   },
   "source": [
    "###  Sample Predictions Visualization"
   ]
  },
  {
   "cell_type": "code",
   "execution_count": 14,
   "id": "51d1cd18",
   "metadata": {
    "execution": {
     "iopub.execute_input": "2025-07-24T21:51:14.190092Z",
     "iopub.status.busy": "2025-07-24T21:51:14.189826Z",
     "iopub.status.idle": "2025-07-24T21:51:14.476941Z",
     "shell.execute_reply": "2025-07-24T21:51:14.476322Z"
    },
    "id": "Alw8O0Zn6mAW",
    "outputId": "1936388a-8892-4440-a658-ae9c1f9bd334",
    "papermill": {
     "duration": 0.3061,
     "end_time": "2025-07-24T21:51:14.478607",
     "exception": false,
     "start_time": "2025-07-24T21:51:14.172507",
     "status": "completed"
    },
    "tags": []
   },
   "outputs": [
    {
     "data": {
      "image/png": "[encoded data removed]",
      "text/plain": [
       "<Figure size 2500x500 with 5 Axes>"
      ]
     },
     "metadata": {},
     "output_type": "display_data"
    }
   ],
   "source": [
    "plt.figure(figsize=(25, 5))\n",
    "for i in range(5):\n",
    "    plt.subplot(1, 5, i + 1)\n",
    "    plt.imshow(test_images[i].reshape(28, 28), cmap='gray')\n",
    "    plt.title(f\"True: {np.argmax(test_labels[i])}\\nPred: {np.argmax(predictions[i])}\")\n",
    "    plt.axis('off')\n",
    "plt.show()\n"
   ]
  },
  {
   "cell_type": "markdown",
   "id": "e72ce2c4",
   "metadata": {
    "papermill": {
     "duration": 0.016868,
     "end_time": "2025-07-24T21:51:14.512033",
     "exception": false,
     "start_time": "2025-07-24T21:51:14.495165",
     "status": "completed"
    },
    "tags": []
   },
   "source": [
    "### 6- Evaluate The Model"
   ]
  },
  {
   "cell_type": "code",
   "execution_count": 15,
   "id": "b9f659ad",
   "metadata": {
    "execution": {
     "iopub.execute_input": "2025-07-24T21:51:14.613905Z",
     "iopub.status.busy": "2025-07-24T21:51:14.613570Z",
     "iopub.status.idle": "2025-07-24T21:51:15.410159Z",
     "shell.execute_reply": "2025-07-24T21:51:15.409316Z"
    },
    "id": "3lG1mis-7-VM",
    "outputId": "dfb8ac8e-8f56-40a8-d70c-5dfb4c29ddbd",
    "papermill": {
     "duration": 0.883315,
     "end_time": "2025-07-24T21:51:15.411274",
     "exception": false,
     "start_time": "2025-07-24T21:51:14.527959",
     "status": "completed"
    },
    "tags": []
   },
   "outputs": [
    {
     "name": "stdout",
     "output_type": "stream",
     "text": [
      "\u001b[1m313/313\u001b[0m \u001b[32m━━━━━━━━━━━━━━━━━━━━\u001b[0m\u001b[37m\u001b[0m \u001b[1m1s\u001b[0m 2ms/step - accuracy: 0.9760 - loss: 0.0746\n",
      "Test loss, Test Accuracy: [0.0637584999203682, 0.9790999889373779]\n"
     ]
    }
   ],
   "source": [
    "results = model.evaluate(X_test, y_test)\n",
    "print('Test loss, Test Accuracy:', results)"
   ]
  }
 ],
 "metadata": {
  "colab": {
   "provenance": []
  },
  "kaggle": {
   "accelerator": "none",
   "dataSources": [],
   "dockerImageVersionId": 31089,
   "isGpuEnabled": false,
   "isInternetEnabled": true,
   "language": "python",
   "sourceType": "notebook"
  },
  "kernelspec": {
   "display_name": "Python 3",
   "language": "python",
   "name": "python3"
  },
  "language_info": {
   "codemirror_mode": {
    "name": "ipython",
    "version": 3
   },
   "file_extension": ".py",
   "mimetype": "text/x-python",
   "name": "python",
   "nbconvert_exporter": "python",
   "pygments_lexer": "ipython3",
   "version": "3.11.13"
  },
  "papermill": {
   "default_parameters": {},
   "duration": 46.068015,
   "end_time": "2025-07-24T21:51:18.614720",
   "environment_variables": {},
   "exception": null,
   "input_path": "__notebook__.ipynb",
   "output_path": "__notebook__.ipynb",
   "parameters": {},
   "start_time": "2025-07-24T21:50:32.546705",
   "version": "2.6.0"
  }
 },
 "nbformat": 4,
 "nbformat_minor": 5
}
